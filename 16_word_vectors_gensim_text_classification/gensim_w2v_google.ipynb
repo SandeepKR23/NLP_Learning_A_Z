{
 "cells": [
  {
   "cell_type": "markdown",
   "metadata": {},
   "source": [
    "<h2 align=\"center\">NLP Tutorial:Text Classification USing Gensim Word Embeddings</h2>"
   ]
  },
  {
   "cell_type": "markdown",
   "metadata": {
    "id": "jXLaHWbcL1Xv"
   },
   "source": [
    "Load Google News Word2vec model from gensim library"
   ]
  },
  {
   "cell_type": "code",
   "execution_count": 2,
   "metadata": {},
   "outputs": [
    {
     "name": "stdout",
     "output_type": "stream",
     "text": [
      "Collecting gensim\n",
      "  Downloading gensim-4.3.3-cp310-cp310-win_amd64.whl.metadata (8.2 kB)\n",
      "Requirement already satisfied: numpy<2.0,>=1.18.5 in c:\\users\\sandeeprajkumar intu\\miniconda3\\envs\\testingp10\\lib\\site-packages (from gensim) (1.26.4)\n",
      "Requirement already satisfied: scipy<1.14.0,>=1.7.0 in c:\\users\\sandeeprajkumar intu\\miniconda3\\envs\\testingp10\\lib\\site-packages (from gensim) (1.13.1)\n",
      "Requirement already satisfied: smart-open>=1.8.1 in c:\\users\\sandeeprajkumar intu\\miniconda3\\envs\\testingp10\\lib\\site-packages (from gensim) (7.0.4)\n",
      "Requirement already satisfied: wrapt in c:\\users\\sandeeprajkumar intu\\miniconda3\\envs\\testingp10\\lib\\site-packages (from smart-open>=1.8.1->gensim) (1.16.0)\n",
      "Downloading gensim-4.3.3-cp310-cp310-win_amd64.whl (24.0 MB)\n",
      "   ---------------------------------------- 0.0/24.0 MB ? eta -:--:--\n",
      "   - -------------------------------------- 0.8/24.0 MB 5.6 MB/s eta 0:00:05\n",
      "   --- ------------------------------------ 2.1/24.0 MB 5.6 MB/s eta 0:00:04\n",
      "   ---- ----------------------------------- 2.9/24.0 MB 5.1 MB/s eta 0:00:05\n",
      "   ------- -------------------------------- 4.5/24.0 MB 5.6 MB/s eta 0:00:04\n",
      "   ---------- ----------------------------- 6.0/24.0 MB 6.1 MB/s eta 0:00:03\n",
      "   ------------ --------------------------- 7.6/24.0 MB 6.3 MB/s eta 0:00:03\n",
      "   ---------------- ----------------------- 10.0/24.0 MB 7.1 MB/s eta 0:00:02\n",
      "   -------------------- ------------------- 12.1/24.0 MB 7.5 MB/s eta 0:00:02\n",
      "   ------------------------ --------------- 14.9/24.0 MB 8.0 MB/s eta 0:00:02\n",
      "   ----------------------------- ---------- 17.6/24.0 MB 8.5 MB/s eta 0:00:01\n",
      "   --------------------------------- ------ 19.9/24.0 MB 8.8 MB/s eta 0:00:01\n",
      "   ------------------------------------- -- 22.8/24.0 MB 9.2 MB/s eta 0:00:01\n",
      "   ---------------------------------------- 24.0/24.0 MB 9.2 MB/s eta 0:00:00\n",
      "Installing collected packages: gensim\n",
      "Successfully installed gensim-4.3.3\n"
     ]
    }
   ],
   "source": [
    "!pip install gensim"
   ]
  },
  {
   "cell_type": "code",
   "execution_count": 3,
   "metadata": {
    "colab": {
     "base_uri": "https://localhost:8080/"
    },
    "id": "8ukyzNAyBaPw",
    "outputId": "1ff883a7-ac8f-458c-f41f-aa1e2c81eb20"
   },
   "outputs": [
    {
     "name": "stdout",
     "output_type": "stream",
     "text": [
      "[==================================================] 100.0% 1662.8/1662.8MB downloaded\n"
     ]
    }
   ],
   "source": [
    "import gensim.downloader as api\n",
    "wv = api.load('word2vec-google-news-300')"
   ]
  },
  {
   "cell_type": "code",
   "execution_count": 4,
   "metadata": {
    "id": "qOR83YfLJRXG"
   },
   "outputs": [
    {
     "data": {
      "text/plain": [
       "0.729151"
      ]
     },
     "execution_count": 4,
     "metadata": {},
     "output_type": "execute_result"
    }
   ],
   "source": [
    "wv.similarity(w1=\"great\", w2=\"good\")"
   ]
  },
  {
   "cell_type": "code",
   "execution_count": 5,
   "metadata": {},
   "outputs": [],
   "source": [
    "wv_great = wv[\"great\"]\n",
    "wv_good = wv[\"good\"]"
   ]
  },
  {
   "cell_type": "code",
   "execution_count": 6,
   "metadata": {},
   "outputs": [
    {
     "data": {
      "text/plain": [
       "((300,), (300,))"
      ]
     },
     "execution_count": 6,
     "metadata": {},
     "output_type": "execute_result"
    }
   ],
   "source": [
    "wv_great.shape, wv_good.shape"
   ]
  },
  {
   "cell_type": "markdown",
   "metadata": {
    "id": "EDNq8C5rMEI2"
   },
   "source": [
    "### **Fake vs Real News Classification Using This Word2Vec Embeddings**"
   ]
  },
  {
   "cell_type": "markdown",
   "metadata": {
    "id": "8n8FcENNMNYU"
   },
   "source": [
    "- Fake news refers to misinformation or disinformation in the country which is spread through word of mouth and more recently through digital communication such as What's app messages, social media posts, etc.\n",
    "\n",
    "- Fake news spreads faster than real news and creates problems and fear among groups and in society.\n",
    "\n",
    "- We are going to address these problems using classical NLP techniques and going to classify whether a given message/ text is **Real or Fake Message**.\n",
    "\n",
    "- We will use **glove embeddings** from spacy which is trained on massive wikipedia dataset to pre-process and text vectorization and apply different classification algorithms.\n"
   ]
  },
  {
   "cell_type": "markdown",
   "metadata": {
    "id": "21PuUZq9MPhu"
   },
   "source": [
    "### Dataset\n",
    "\n",
    "Credits: https://www.kaggle.com/datasets/clmentbisaillon/fake-and-real-news-dataset\n",
    "\n",
    "\n",
    "- This data consists of two columns.\n",
    "        - Text\n",
    "        - label\n",
    "- Text is the statements or messages regarding a particular event/situation.\n",
    "\n",
    "- label feature tells whether the given text is Fake or Real.\n",
    "\n",
    "- As there are only 2 classes, this problem comes under the **Binary Classification.**\n"
   ]
  },
  {
   "cell_type": "code",
   "execution_count": 33,
   "metadata": {
    "colab": {
     "base_uri": "https://localhost:8080/",
     "height": 224
    },
    "id": "H3ij_XmtBaKP",
    "outputId": "948a24d6-c0fb-45ae-a581-f9545da1a318"
   },
   "outputs": [
    {
     "name": "stdout",
     "output_type": "stream",
     "text": [
      "(9900, 2)\n"
     ]
    },
    {
     "data": {
      "text/html": [
       "<div>\n",
       "<style scoped>\n",
       "    .dataframe tbody tr th:only-of-type {\n",
       "        vertical-align: middle;\n",
       "    }\n",
       "\n",
       "    .dataframe tbody tr th {\n",
       "        vertical-align: top;\n",
       "    }\n",
       "\n",
       "    .dataframe thead th {\n",
       "        text-align: right;\n",
       "    }\n",
       "</style>\n",
       "<table border=\"1\" class=\"dataframe\">\n",
       "  <thead>\n",
       "    <tr style=\"text-align: right;\">\n",
       "      <th></th>\n",
       "      <th>Text</th>\n",
       "      <th>label</th>\n",
       "    </tr>\n",
       "  </thead>\n",
       "  <tbody>\n",
       "    <tr>\n",
       "      <th>0</th>\n",
       "      <td>Top Trump Surrogate BRUTALLY Stabs Him In The...</td>\n",
       "      <td>Fake</td>\n",
       "    </tr>\n",
       "    <tr>\n",
       "      <th>1</th>\n",
       "      <td>U.S. conservative leader optimistic of common ...</td>\n",
       "      <td>Real</td>\n",
       "    </tr>\n",
       "    <tr>\n",
       "      <th>2</th>\n",
       "      <td>Trump proposes U.S. tax overhaul, stirs concer...</td>\n",
       "      <td>Real</td>\n",
       "    </tr>\n",
       "    <tr>\n",
       "      <th>3</th>\n",
       "      <td>Court Forces Ohio To Allow Millions Of Illega...</td>\n",
       "      <td>Fake</td>\n",
       "    </tr>\n",
       "    <tr>\n",
       "      <th>4</th>\n",
       "      <td>Democrats say Trump agrees to work on immigrat...</td>\n",
       "      <td>Real</td>\n",
       "    </tr>\n",
       "  </tbody>\n",
       "</table>\n",
       "</div>"
      ],
      "text/plain": [
       "                                                Text label\n",
       "0   Top Trump Surrogate BRUTALLY Stabs Him In The...  Fake\n",
       "1  U.S. conservative leader optimistic of common ...  Real\n",
       "2  Trump proposes U.S. tax overhaul, stirs concer...  Real\n",
       "3   Court Forces Ohio To Allow Millions Of Illega...  Fake\n",
       "4  Democrats say Trump agrees to work on immigrat...  Real"
      ]
     },
     "execution_count": 33,
     "metadata": {},
     "output_type": "execute_result"
    }
   ],
   "source": [
    "import pandas as pd\n",
    "\n",
    "\n",
    "#read the dataset with name \"Fake_Real_Data.csv\" and store it in a variable df\n",
    "df = pd.read_csv(\"fake_and_real_news.csv\")\n",
    "\n",
    "#print the shape of dataframe\n",
    "print(df.shape)\n",
    "\n",
    "#print top 5 rows\n",
    "df.head(5)"
   ]
  },
  {
   "cell_type": "code",
   "execution_count": 34,
   "metadata": {
    "colab": {
     "base_uri": "https://localhost:8080/"
    },
    "id": "upvt0Y63DLdt",
    "outputId": "86e66b38-7132-4ac6-9e8f-440a6c74ffa1"
   },
   "outputs": [
    {
     "data": {
      "text/plain": [
       "label\n",
       "Fake    5000\n",
       "Real    4900\n",
       "Name: count, dtype: int64"
      ]
     },
     "execution_count": 34,
     "metadata": {},
     "output_type": "execute_result"
    }
   ],
   "source": [
    "#check the distribution of labels \n",
    "df['label'].value_counts()"
   ]
  },
  {
   "cell_type": "code",
   "execution_count": 35,
   "metadata": {
    "colab": {
     "base_uri": "https://localhost:8080/",
     "height": 206
    },
    "id": "3FuwvuFCBaNY",
    "outputId": "cae80a0f-e2de-4944-d3aa-8d59ca014cf9"
   },
   "outputs": [
    {
     "data": {
      "text/html": [
       "<div>\n",
       "<style scoped>\n",
       "    .dataframe tbody tr th:only-of-type {\n",
       "        vertical-align: middle;\n",
       "    }\n",
       "\n",
       "    .dataframe tbody tr th {\n",
       "        vertical-align: top;\n",
       "    }\n",
       "\n",
       "    .dataframe thead th {\n",
       "        text-align: right;\n",
       "    }\n",
       "</style>\n",
       "<table border=\"1\" class=\"dataframe\">\n",
       "  <thead>\n",
       "    <tr style=\"text-align: right;\">\n",
       "      <th></th>\n",
       "      <th>Text</th>\n",
       "      <th>label</th>\n",
       "      <th>label_num</th>\n",
       "    </tr>\n",
       "  </thead>\n",
       "  <tbody>\n",
       "    <tr>\n",
       "      <th>0</th>\n",
       "      <td>Top Trump Surrogate BRUTALLY Stabs Him In The...</td>\n",
       "      <td>Fake</td>\n",
       "      <td>0</td>\n",
       "    </tr>\n",
       "    <tr>\n",
       "      <th>1</th>\n",
       "      <td>U.S. conservative leader optimistic of common ...</td>\n",
       "      <td>Real</td>\n",
       "      <td>1</td>\n",
       "    </tr>\n",
       "    <tr>\n",
       "      <th>2</th>\n",
       "      <td>Trump proposes U.S. tax overhaul, stirs concer...</td>\n",
       "      <td>Real</td>\n",
       "      <td>1</td>\n",
       "    </tr>\n",
       "    <tr>\n",
       "      <th>3</th>\n",
       "      <td>Court Forces Ohio To Allow Millions Of Illega...</td>\n",
       "      <td>Fake</td>\n",
       "      <td>0</td>\n",
       "    </tr>\n",
       "    <tr>\n",
       "      <th>4</th>\n",
       "      <td>Democrats say Trump agrees to work on immigrat...</td>\n",
       "      <td>Real</td>\n",
       "      <td>1</td>\n",
       "    </tr>\n",
       "  </tbody>\n",
       "</table>\n",
       "</div>"
      ],
      "text/plain": [
       "                                                Text label  label_num\n",
       "0   Top Trump Surrogate BRUTALLY Stabs Him In The...  Fake          0\n",
       "1  U.S. conservative leader optimistic of common ...  Real          1\n",
       "2  Trump proposes U.S. tax overhaul, stirs concer...  Real          1\n",
       "3   Court Forces Ohio To Allow Millions Of Illega...  Fake          0\n",
       "4  Democrats say Trump agrees to work on immigrat...  Real          1"
      ]
     },
     "execution_count": 35,
     "metadata": {},
     "output_type": "execute_result"
    }
   ],
   "source": [
    "#Add the new column which gives a unique number to each of these labels \n",
    "\n",
    "df['label_num'] = df['label'].map({'Fake' : 0, 'Real': 1})\n",
    "\n",
    "#check the results with top 5 rows\n",
    "df.head(5)"
   ]
  },
  {
   "cell_type": "markdown",
   "metadata": {},
   "source": [
    "#### Now we will convert the text into a vector using gensim's word2vec embeddings. \n",
    "#### We will do this in three steps,\n",
    "\n",
    "1. Preprocess the text to remove stop words, punctuations and get lemma for each word\n",
    "2. Get word vectors for each of the words in a pre-processed sentece\n",
    "3. Take a mean of all word vectors to derive the numeric representation of the entire news article"
   ]
  },
  {
   "cell_type": "markdown",
   "metadata": {},
   "source": [
    "First let's explore get_mean_vector api of gensim to see how it works"
   ]
  },
  {
   "cell_type": "code",
   "execution_count": 36,
   "metadata": {},
   "outputs": [],
   "source": [
    "import numpy as np\n",
    "r1 = np.mean([wv_good, wv_great],axis=0)"
   ]
  },
  {
   "cell_type": "code",
   "execution_count": 37,
   "metadata": {},
   "outputs": [
    {
     "data": {
      "text/plain": [
       "array([ 0.04052734,  0.0625    , -0.01745605,  0.07861328,  0.03271484],\n",
       "      dtype=float32)"
      ]
     },
     "execution_count": 37,
     "metadata": {},
     "output_type": "execute_result"
    }
   ],
   "source": [
    "wv_good[:5]"
   ]
  },
  {
   "cell_type": "code",
   "execution_count": 12,
   "metadata": {},
   "outputs": [
    {
     "data": {
      "text/plain": [
       "array([ 0.07177734,  0.20800781, -0.02844238,  0.17871094,  0.1328125 ],\n",
       "      dtype=float32)"
      ]
     },
     "execution_count": 12,
     "metadata": {},
     "output_type": "execute_result"
    }
   ],
   "source": [
    "wv_great[:5]"
   ]
  },
  {
   "cell_type": "code",
   "execution_count": 13,
   "metadata": {},
   "outputs": [
    {
     "data": {
      "text/plain": [
       "array([ 0.05615234,  0.1352539 , -0.02294922,  0.12866211,  0.08276367],\n",
       "      dtype=float32)"
      ]
     },
     "execution_count": 13,
     "metadata": {},
     "output_type": "execute_result"
    }
   ],
   "source": [
    "r1[:5]"
   ]
  },
  {
   "cell_type": "code",
   "execution_count": 14,
   "metadata": {},
   "outputs": [],
   "source": [
    "r2 = wv.get_mean_vector([\"good\", \"great\"],pre_normalize=False)"
   ]
  },
  {
   "cell_type": "code",
   "execution_count": 15,
   "metadata": {
    "scrolled": true
   },
   "outputs": [
    {
     "data": {
      "text/plain": [
       "array([ 0.05615234,  0.1352539 , -0.02294922,  0.12866211,  0.08276367],\n",
       "      dtype=float32)"
      ]
     },
     "execution_count": 15,
     "metadata": {},
     "output_type": "execute_result"
    }
   ],
   "source": [
    "r2[:5]"
   ]
  },
  {
   "cell_type": "markdown",
   "metadata": {
    "id": "ged-kUXTIdq5"
   },
   "source": [
    "Now let's write the function that can do preprocessing and vectorization both"
   ]
  },
  {
   "cell_type": "code",
   "execution_count": 17,
   "metadata": {},
   "outputs": [
    {
     "name": "stdout",
     "output_type": "stream",
     "text": [
      "Collecting en-core-web-lg==3.7.1\n",
      "  Downloading https://github.com/explosion/spacy-models/releases/download/en_core_web_lg-3.7.1/en_core_web_lg-3.7.1-py3-none-any.whl (587.7 MB)\n",
      "     ---------------------------------------- 0.0/587.7 MB ? eta -:--:--\n",
      "     ---------------------------------------- 1.3/587.7 MB 6.7 MB/s eta 0:01:28\n",
      "     --------------------------------------- 3.9/587.7 MB 10.7 MB/s eta 0:00:55\n",
      "     --------------------------------------- 6.8/587.7 MB 11.7 MB/s eta 0:00:50\n",
      "      -------------------------------------- 9.7/587.7 MB 12.1 MB/s eta 0:00:48\n",
      "      ------------------------------------- 12.3/587.7 MB 12.1 MB/s eta 0:00:48\n",
      "      ------------------------------------- 14.9/587.7 MB 12.2 MB/s eta 0:00:47\n",
      "     - ------------------------------------ 17.8/587.7 MB 12.4 MB/s eta 0:00:47\n",
      "     - ------------------------------------ 20.4/587.7 MB 12.3 MB/s eta 0:00:47\n",
      "     - ------------------------------------ 22.8/587.7 MB 12.3 MB/s eta 0:00:46\n",
      "     - ------------------------------------ 24.1/587.7 MB 12.3 MB/s eta 0:00:46\n",
      "     - ------------------------------------ 27.5/587.7 MB 12.1 MB/s eta 0:00:47\n",
      "     - ------------------------------------ 29.9/587.7 MB 12.2 MB/s eta 0:00:46\n",
      "     -- ----------------------------------- 33.0/587.7 MB 12.2 MB/s eta 0:00:46\n",
      "     -- ----------------------------------- 35.4/587.7 MB 12.1 MB/s eta 0:00:46\n",
      "     -- ----------------------------------- 38.3/587.7 MB 12.2 MB/s eta 0:00:45\n",
      "     -- ----------------------------------- 40.9/587.7 MB 12.2 MB/s eta 0:00:45\n",
      "     -- ----------------------------------- 43.5/587.7 MB 12.2 MB/s eta 0:00:45\n",
      "     -- ----------------------------------- 46.1/587.7 MB 12.2 MB/s eta 0:00:45\n",
      "     --- ---------------------------------- 48.8/587.7 MB 12.2 MB/s eta 0:00:45\n",
      "     --- ---------------------------------- 51.4/587.7 MB 12.2 MB/s eta 0:00:44\n",
      "     --- ---------------------------------- 54.0/587.7 MB 12.2 MB/s eta 0:00:44\n",
      "     --- ---------------------------------- 56.6/587.7 MB 12.2 MB/s eta 0:00:44\n",
      "     --- ---------------------------------- 58.2/587.7 MB 12.0 MB/s eta 0:00:44\n",
      "     ---- --------------------------------- 61.9/587.7 MB 12.2 MB/s eta 0:00:44\n",
      "     ---- --------------------------------- 64.7/587.7 MB 12.2 MB/s eta 0:00:43\n",
      "     ---- --------------------------------- 67.4/587.7 MB 12.2 MB/s eta 0:00:43\n",
      "     ---- --------------------------------- 70.0/587.7 MB 12.3 MB/s eta 0:00:43\n",
      "     ---- --------------------------------- 72.4/587.7 MB 12.2 MB/s eta 0:00:43\n",
      "     ---- --------------------------------- 75.2/587.7 MB 12.2 MB/s eta 0:00:42\n",
      "     ----- -------------------------------- 77.9/587.7 MB 12.3 MB/s eta 0:00:42\n",
      "     ----- -------------------------------- 80.5/587.7 MB 12.3 MB/s eta 0:00:42\n",
      "     ----- -------------------------------- 83.1/587.7 MB 12.3 MB/s eta 0:00:42\n",
      "     ----- -------------------------------- 85.5/587.7 MB 12.3 MB/s eta 0:00:41\n",
      "     ----- -------------------------------- 88.1/587.7 MB 12.3 MB/s eta 0:00:41\n",
      "     ----- -------------------------------- 91.0/587.7 MB 12.2 MB/s eta 0:00:41\n",
      "     ------ ------------------------------- 93.8/587.7 MB 12.3 MB/s eta 0:00:41\n",
      "     ------ ------------------------------- 96.5/587.7 MB 12.3 MB/s eta 0:00:41\n",
      "     ------ ------------------------------- 98.8/587.7 MB 12.3 MB/s eta 0:00:40\n",
      "     ------ ------------------------------ 101.4/587.7 MB 12.3 MB/s eta 0:00:40\n",
      "     ------ ------------------------------ 104.3/587.7 MB 12.3 MB/s eta 0:00:40\n",
      "     ------ ------------------------------ 106.7/587.7 MB 12.3 MB/s eta 0:00:40\n",
      "     ------ ------------------------------ 109.3/587.7 MB 12.2 MB/s eta 0:00:40\n",
      "     ------- ----------------------------- 111.7/587.7 MB 12.2 MB/s eta 0:00:39\n",
      "     ------- ----------------------------- 114.6/587.7 MB 12.2 MB/s eta 0:00:39\n",
      "     ------- ----------------------------- 117.4/587.7 MB 12.3 MB/s eta 0:00:39\n",
      "     ------- ----------------------------- 120.1/587.7 MB 12.3 MB/s eta 0:00:39\n",
      "     ------- ----------------------------- 122.7/587.7 MB 12.2 MB/s eta 0:00:38\n",
      "     ------- ----------------------------- 125.0/587.7 MB 12.2 MB/s eta 0:00:38\n",
      "     -------- ---------------------------- 127.9/587.7 MB 12.2 MB/s eta 0:00:38\n",
      "     -------- ---------------------------- 130.5/587.7 MB 12.2 MB/s eta 0:00:38\n",
      "     -------- ---------------------------- 132.9/587.7 MB 12.3 MB/s eta 0:00:38\n",
      "     -------- ---------------------------- 135.5/587.7 MB 12.2 MB/s eta 0:00:37\n",
      "     -------- ---------------------------- 138.1/587.7 MB 12.2 MB/s eta 0:00:37\n",
      "     -------- ---------------------------- 141.0/587.7 MB 12.2 MB/s eta 0:00:37\n",
      "     --------- --------------------------- 143.9/587.7 MB 12.3 MB/s eta 0:00:37\n",
      "     --------- --------------------------- 146.5/587.7 MB 12.3 MB/s eta 0:00:37\n",
      "     --------- --------------------------- 149.2/587.7 MB 12.2 MB/s eta 0:00:36\n",
      "     --------- --------------------------- 151.5/587.7 MB 12.3 MB/s eta 0:00:36\n",
      "     --------- --------------------------- 154.1/587.7 MB 12.2 MB/s eta 0:00:36\n",
      "     --------- --------------------------- 156.5/587.7 MB 12.3 MB/s eta 0:00:36\n",
      "     ---------- -------------------------- 159.1/587.7 MB 12.2 MB/s eta 0:00:35\n",
      "     ---------- -------------------------- 161.7/587.7 MB 12.2 MB/s eta 0:00:35\n",
      "     ---------- -------------------------- 164.4/587.7 MB 12.3 MB/s eta 0:00:35\n",
      "     ---------- -------------------------- 167.0/587.7 MB 12.3 MB/s eta 0:00:35\n",
      "     ---------- -------------------------- 169.6/587.7 MB 12.3 MB/s eta 0:00:35\n",
      "     ---------- -------------------------- 172.2/587.7 MB 12.3 MB/s eta 0:00:34\n",
      "     ----------- ------------------------- 174.9/587.7 MB 12.2 MB/s eta 0:00:34\n",
      "     ----------- ------------------------- 177.5/587.7 MB 12.2 MB/s eta 0:00:34\n",
      "     ----------- ------------------------- 180.1/587.7 MB 12.2 MB/s eta 0:00:34\n",
      "     ----------- ------------------------- 182.7/587.7 MB 12.3 MB/s eta 0:00:34\n",
      "     ----------- ------------------------- 185.1/587.7 MB 12.2 MB/s eta 0:00:33\n",
      "     ----------- ------------------------- 187.4/587.7 MB 12.2 MB/s eta 0:00:33\n",
      "     ----------- ------------------------- 189.8/587.7 MB 12.2 MB/s eta 0:00:33\n",
      "     ------------ ------------------------ 192.4/587.7 MB 12.2 MB/s eta 0:00:33\n",
      "     ------------ ------------------------ 195.0/587.7 MB 12.2 MB/s eta 0:00:33\n",
      "     ------------ ------------------------ 197.7/587.7 MB 12.2 MB/s eta 0:00:32\n",
      "     ------------ ------------------------ 200.3/587.7 MB 12.2 MB/s eta 0:00:32\n",
      "     ------------ ------------------------ 202.9/587.7 MB 12.2 MB/s eta 0:00:32\n",
      "     ------------ ------------------------ 205.3/587.7 MB 12.2 MB/s eta 0:00:32\n",
      "     ------------- ----------------------- 207.6/587.7 MB 12.2 MB/s eta 0:00:32\n",
      "     ------------- ----------------------- 210.5/587.7 MB 12.2 MB/s eta 0:00:31\n",
      "     ------------- ----------------------- 213.4/587.7 MB 12.2 MB/s eta 0:00:31\n",
      "     ------------- ----------------------- 216.0/587.7 MB 12.2 MB/s eta 0:00:31\n",
      "     ------------- ----------------------- 218.6/587.7 MB 12.2 MB/s eta 0:00:31\n",
      "     ------------- ----------------------- 221.2/587.7 MB 12.2 MB/s eta 0:00:30\n",
      "     -------------- ---------------------- 223.6/587.7 MB 12.2 MB/s eta 0:00:30\n",
      "     -------------- ---------------------- 226.2/587.7 MB 12.2 MB/s eta 0:00:30\n",
      "     -------------- ---------------------- 228.9/587.7 MB 12.2 MB/s eta 0:00:30\n",
      "     -------------- ---------------------- 231.2/587.7 MB 12.2 MB/s eta 0:00:30\n",
      "     -------------- ---------------------- 234.1/587.7 MB 12.2 MB/s eta 0:00:29\n",
      "     -------------- ---------------------- 236.7/587.7 MB 12.2 MB/s eta 0:00:29\n",
      "     --------------- --------------------- 239.3/587.7 MB 12.2 MB/s eta 0:00:29\n",
      "     --------------- --------------------- 242.0/587.7 MB 12.2 MB/s eta 0:00:29\n",
      "     --------------- --------------------- 244.6/587.7 MB 12.2 MB/s eta 0:00:29\n",
      "     --------------- --------------------- 246.9/587.7 MB 12.2 MB/s eta 0:00:28\n",
      "     --------------- --------------------- 249.6/587.7 MB 12.2 MB/s eta 0:00:28\n",
      "     --------------- --------------------- 252.4/587.7 MB 12.2 MB/s eta 0:00:28\n",
      "     ---------------- -------------------- 255.1/587.7 MB 12.2 MB/s eta 0:00:28\n",
      "     ---------------- -------------------- 257.7/587.7 MB 12.2 MB/s eta 0:00:27\n",
      "     ---------------- -------------------- 260.6/587.7 MB 12.2 MB/s eta 0:00:27\n",
      "     ---------------- -------------------- 263.2/587.7 MB 12.3 MB/s eta 0:00:27\n",
      "     ---------------- -------------------- 265.8/587.7 MB 12.3 MB/s eta 0:00:27\n",
      "     ---------------- -------------------- 268.4/587.7 MB 12.3 MB/s eta 0:00:27\n",
      "     ----------------- ------------------- 270.8/587.7 MB 12.3 MB/s eta 0:00:26\n",
      "     ----------------- ------------------- 272.4/587.7 MB 12.2 MB/s eta 0:00:26\n",
      "     ----------------- ------------------- 275.8/587.7 MB 12.2 MB/s eta 0:00:26\n",
      "     ----------------- ------------------- 278.4/587.7 MB 12.2 MB/s eta 0:00:26\n",
      "     ----------------- ------------------- 280.8/587.7 MB 12.2 MB/s eta 0:00:26\n",
      "     ----------------- ------------------- 283.9/587.7 MB 12.2 MB/s eta 0:00:25\n",
      "     ------------------ ------------------ 286.5/587.7 MB 12.3 MB/s eta 0:00:25\n",
      "     ------------------ ------------------ 289.1/587.7 MB 12.3 MB/s eta 0:00:25\n",
      "     ------------------ ------------------ 291.8/587.7 MB 12.3 MB/s eta 0:00:25\n",
      "     ------------------ ------------------ 294.4/587.7 MB 12.2 MB/s eta 0:00:24\n",
      "     ------------------ ------------------ 296.7/587.7 MB 12.3 MB/s eta 0:00:24\n",
      "     ------------------ ------------------ 299.6/587.7 MB 12.2 MB/s eta 0:00:24\n",
      "     ------------------- ----------------- 302.3/587.7 MB 12.3 MB/s eta 0:00:24\n",
      "     ------------------- ----------------- 304.9/587.7 MB 12.3 MB/s eta 0:00:24\n",
      "     ------------------- ----------------- 307.2/587.7 MB 12.2 MB/s eta 0:00:23\n",
      "     ------------------- ----------------- 309.9/587.7 MB 12.3 MB/s eta 0:00:23\n",
      "     ------------------- ----------------- 312.7/587.7 MB 12.2 MB/s eta 0:00:23\n",
      "     ------------------- ----------------- 315.1/587.7 MB 12.3 MB/s eta 0:00:23\n",
      "     -------------------- ---------------- 317.7/587.7 MB 12.2 MB/s eta 0:00:23\n",
      "     -------------------- ---------------- 320.3/587.7 MB 12.3 MB/s eta 0:00:22\n",
      "     -------------------- ---------------- 323.0/587.7 MB 12.2 MB/s eta 0:00:22\n",
      "     -------------------- ---------------- 325.6/587.7 MB 12.3 MB/s eta 0:00:22\n",
      "     -------------------- ---------------- 328.2/587.7 MB 12.3 MB/s eta 0:00:22\n",
      "     -------------------- ---------------- 330.8/587.7 MB 12.3 MB/s eta 0:00:21\n",
      "     -------------------- ---------------- 333.4/587.7 MB 12.2 MB/s eta 0:00:21\n",
      "     --------------------- --------------- 336.1/587.7 MB 12.2 MB/s eta 0:00:21\n",
      "     --------------------- --------------- 339.0/587.7 MB 12.3 MB/s eta 0:00:21\n",
      "     --------------------- --------------- 341.3/587.7 MB 12.3 MB/s eta 0:00:21\n",
      "     --------------------- --------------- 343.7/587.7 MB 12.2 MB/s eta 0:00:20\n",
      "     --------------------- --------------- 346.3/587.7 MB 12.3 MB/s eta 0:00:20\n",
      "     --------------------- --------------- 348.9/587.7 MB 12.3 MB/s eta 0:00:20\n",
      "     ---------------------- -------------- 351.8/587.7 MB 12.2 MB/s eta 0:00:20\n",
      "     ---------------------- -------------- 354.4/587.7 MB 12.2 MB/s eta 0:00:20\n",
      "     ---------------------- -------------- 357.3/587.7 MB 12.2 MB/s eta 0:00:19\n",
      "     ---------------------- -------------- 359.9/587.7 MB 12.2 MB/s eta 0:00:19\n",
      "     ---------------------- -------------- 362.5/587.7 MB 12.3 MB/s eta 0:00:19\n",
      "     ---------------------- -------------- 365.2/587.7 MB 12.3 MB/s eta 0:00:19\n",
      "     ----------------------- ------------- 367.8/587.7 MB 12.3 MB/s eta 0:00:18\n",
      "     ----------------------- ------------- 370.1/587.7 MB 12.3 MB/s eta 0:00:18\n",
      "     ----------------------- ------------- 372.8/587.7 MB 12.3 MB/s eta 0:00:18\n",
      "     ----------------------- ------------- 375.4/587.7 MB 12.3 MB/s eta 0:00:18\n",
      "     ----------------------- ------------- 378.0/587.7 MB 12.2 MB/s eta 0:00:18\n",
      "     ----------------------- ------------- 380.9/587.7 MB 12.3 MB/s eta 0:00:17\n",
      "     ------------------------ ------------ 383.5/587.7 MB 12.3 MB/s eta 0:00:17\n",
      "     ------------------------ ------------ 385.9/587.7 MB 12.2 MB/s eta 0:00:17\n",
      "     ------------------------ ------------ 389.0/587.7 MB 12.3 MB/s eta 0:00:17\n",
      "     ------------------------ ------------ 391.4/587.7 MB 12.3 MB/s eta 0:00:16\n",
      "     ------------------------ ------------ 394.0/587.7 MB 12.3 MB/s eta 0:00:16\n",
      "     ------------------------ ------------ 396.6/587.7 MB 12.3 MB/s eta 0:00:16\n",
      "     ------------------------- ----------- 399.2/587.7 MB 12.3 MB/s eta 0:00:16\n",
      "     ------------------------- ----------- 401.9/587.7 MB 12.3 MB/s eta 0:00:16\n",
      "     ------------------------- ----------- 404.2/587.7 MB 12.3 MB/s eta 0:00:15\n",
      "     ------------------------- ----------- 406.8/587.7 MB 12.3 MB/s eta 0:00:15\n",
      "     ------------------------- ----------- 409.5/587.7 MB 12.2 MB/s eta 0:00:15\n",
      "     ------------------------- ----------- 412.6/587.7 MB 12.3 MB/s eta 0:00:15\n",
      "     -------------------------- ---------- 415.2/587.7 MB 12.3 MB/s eta 0:00:15\n",
      "     -------------------------- ---------- 417.6/587.7 MB 12.3 MB/s eta 0:00:14\n",
      "     -------------------------- ---------- 420.2/587.7 MB 12.3 MB/s eta 0:00:14\n",
      "     -------------------------- ---------- 423.1/587.7 MB 12.3 MB/s eta 0:00:14\n",
      "     -------------------------- ---------- 425.7/587.7 MB 12.3 MB/s eta 0:00:14\n",
      "     -------------------------- ---------- 428.3/587.7 MB 12.3 MB/s eta 0:00:13\n",
      "     --------------------------- --------- 430.7/587.7 MB 12.3 MB/s eta 0:00:13\n",
      "     --------------------------- --------- 433.3/587.7 MB 12.3 MB/s eta 0:00:13\n",
      "     --------------------------- --------- 436.2/587.7 MB 12.3 MB/s eta 0:00:13\n",
      "     --------------------------- --------- 439.1/587.7 MB 12.3 MB/s eta 0:00:13\n",
      "     --------------------------- --------- 441.5/587.7 MB 12.3 MB/s eta 0:00:12\n",
      "     --------------------------- --------- 444.1/587.7 MB 12.3 MB/s eta 0:00:12\n",
      "     ---------------------------- -------- 446.7/587.7 MB 12.3 MB/s eta 0:00:12\n",
      "     ---------------------------- -------- 449.3/587.7 MB 12.3 MB/s eta 0:00:12\n",
      "     ---------------------------- -------- 452.2/587.7 MB 12.3 MB/s eta 0:00:11\n",
      "     ---------------------------- -------- 454.8/587.7 MB 12.3 MB/s eta 0:00:11\n",
      "     ---------------------------- -------- 457.2/587.7 MB 12.3 MB/s eta 0:00:11\n",
      "     ---------------------------- -------- 459.8/587.7 MB 12.3 MB/s eta 0:00:11\n",
      "     ----------------------------- ------- 462.2/587.7 MB 12.3 MB/s eta 0:00:11\n",
      "     ----------------------------- ------- 465.0/587.7 MB 12.3 MB/s eta 0:00:10\n",
      "     ----------------------------- ------- 467.4/587.7 MB 12.3 MB/s eta 0:00:10\n",
      "     ----------------------------- ------- 469.8/587.7 MB 12.3 MB/s eta 0:00:10\n",
      "     ----------------------------- ------- 472.6/587.7 MB 12.3 MB/s eta 0:00:10\n",
      "     ----------------------------- ------- 475.5/587.7 MB 12.3 MB/s eta 0:00:10\n",
      "     ------------------------------ ------ 477.9/587.7 MB 12.3 MB/s eta 0:00:09\n",
      "     ------------------------------ ------ 480.8/587.7 MB 12.3 MB/s eta 0:00:09\n",
      "     ------------------------------ ------ 483.4/587.7 MB 12.3 MB/s eta 0:00:09\n",
      "     ------------------------------ ------ 486.0/587.7 MB 12.3 MB/s eta 0:00:09\n",
      "     ------------------------------ ------ 487.8/587.7 MB 12.3 MB/s eta 0:00:09\n",
      "     ------------------------------ ------ 491.5/587.7 MB 12.3 MB/s eta 0:00:08\n",
      "     ------------------------------- ----- 494.1/587.7 MB 12.3 MB/s eta 0:00:08\n",
      "     ------------------------------- ----- 497.0/587.7 MB 12.3 MB/s eta 0:00:08\n",
      "     ------------------------------- ----- 499.6/587.7 MB 12.3 MB/s eta 0:00:08\n",
      "     ------------------------------- ----- 502.3/587.7 MB 12.3 MB/s eta 0:00:07\n",
      "     ------------------------------- ----- 505.2/587.7 MB 12.4 MB/s eta 0:00:07\n",
      "     ------------------------------- ----- 507.8/587.7 MB 12.4 MB/s eta 0:00:07\n",
      "     -------------------------------- ---- 510.9/587.7 MB 12.4 MB/s eta 0:00:07\n",
      "     -------------------------------- ---- 513.5/587.7 MB 12.4 MB/s eta 0:00:06\n",
      "     -------------------------------- ---- 516.4/587.7 MB 12.4 MB/s eta 0:00:06\n",
      "     -------------------------------- ---- 519.3/587.7 MB 12.4 MB/s eta 0:00:06\n",
      "     -------------------------------- ---- 521.7/587.7 MB 12.4 MB/s eta 0:00:06\n",
      "     --------------------------------- --- 524.6/587.7 MB 12.4 MB/s eta 0:00:06\n",
      "     --------------------------------- --- 527.2/587.7 MB 12.4 MB/s eta 0:00:05\n",
      "     --------------------------------- --- 530.1/587.7 MB 12.4 MB/s eta 0:00:05\n",
      "     --------------------------------- --- 532.9/587.7 MB 12.5 MB/s eta 0:00:05\n",
      "     --------------------------------- --- 535.6/587.7 MB 12.4 MB/s eta 0:00:05\n",
      "     --------------------------------- --- 538.2/587.7 MB 12.4 MB/s eta 0:00:04\n",
      "     ---------------------------------- -- 540.8/587.7 MB 12.4 MB/s eta 0:00:04\n",
      "     ---------------------------------- -- 543.9/587.7 MB 12.4 MB/s eta 0:00:04\n",
      "     ---------------------------------- -- 546.6/587.7 MB 12.4 MB/s eta 0:00:04\n",
      "     ---------------------------------- -- 549.5/587.7 MB 12.5 MB/s eta 0:00:04\n",
      "     ---------------------------------- -- 552.1/587.7 MB 12.5 MB/s eta 0:00:03\n",
      "     ---------------------------------- -- 554.7/587.7 MB 12.5 MB/s eta 0:00:03\n",
      "     ----------------------------------- - 557.3/587.7 MB 12.5 MB/s eta 0:00:03\n",
      "     ----------------------------------- - 559.9/587.7 MB 12.5 MB/s eta 0:00:03\n",
      "     ----------------------------------- - 561.8/587.7 MB 12.5 MB/s eta 0:00:03\n",
      "     ----------------------------------- - 565.4/587.7 MB 12.5 MB/s eta 0:00:02\n",
      "     ----------------------------------- - 567.8/587.7 MB 12.5 MB/s eta 0:00:02\n",
      "     ----------------------------------- - 570.4/587.7 MB 12.5 MB/s eta 0:00:02\n",
      "     ------------------------------------  573.0/587.7 MB 12.5 MB/s eta 0:00:02\n",
      "     ------------------------------------  575.9/587.7 MB 12.5 MB/s eta 0:00:01\n",
      "     ------------------------------------  578.3/587.7 MB 12.5 MB/s eta 0:00:01\n",
      "     ------------------------------------  580.6/587.7 MB 12.5 MB/s eta 0:00:01\n",
      "     ------------------------------------  583.5/587.7 MB 12.5 MB/s eta 0:00:01\n",
      "     ------------------------------------  586.2/587.7 MB 12.5 MB/s eta 0:00:01\n",
      "     ------------------------------------  587.5/587.7 MB 12.5 MB/s eta 0:00:01\n",
      "     ------------------------------------  587.5/587.7 MB 12.5 MB/s eta 0:00:01\n",
      "     ------------------------------------  587.5/587.7 MB 12.5 MB/s eta 0:00:01\n",
      "     ------------------------------------  587.5/587.7 MB 12.5 MB/s eta 0:00:01\n",
      "     ------------------------------------  587.5/587.7 MB 12.5 MB/s eta 0:00:01\n",
      "     ------------------------------------  587.5/587.7 MB 12.5 MB/s eta 0:00:01\n",
      "     ------------------------------------  587.5/587.7 MB 12.5 MB/s eta 0:00:01\n",
      "     ------------------------------------  587.5/587.7 MB 12.5 MB/s eta 0:00:01\n",
      "     ------------------------------------  587.5/587.7 MB 12.5 MB/s eta 0:00:01\n",
      "     ------------------------------------  587.5/587.7 MB 12.5 MB/s eta 0:00:01\n",
      "     ------------------------------------  587.5/587.7 MB 12.5 MB/s eta 0:00:01\n",
      "     ------------------------------------  587.5/587.7 MB 12.5 MB/s eta 0:00:01\n",
      "     ------------------------------------  587.5/587.7 MB 12.5 MB/s eta 0:00:01\n",
      "     ------------------------------------  587.5/587.7 MB 12.5 MB/s eta 0:00:01\n",
      "     ------------------------------------  587.5/587.7 MB 12.5 MB/s eta 0:00:01\n",
      "     ------------------------------------  587.5/587.7 MB 12.5 MB/s eta 0:00:01\n",
      "     ------------------------------------- 587.7/587.7 MB 10.7 MB/s eta 0:00:00\n",
      "Requirement already satisfied: spacy<3.8.0,>=3.7.2 in c:\\users\\sandeeprajkumar intu\\miniconda3\\envs\\testingp10\\lib\\site-packages (from en-core-web-lg==3.7.1) (3.7.5)\n",
      "Requirement already satisfied: spacy-legacy<3.1.0,>=3.0.11 in c:\\users\\sandeeprajkumar intu\\miniconda3\\envs\\testingp10\\lib\\site-packages (from spacy<3.8.0,>=3.7.2->en-core-web-lg==3.7.1) (3.0.12)\n",
      "Requirement already satisfied: spacy-loggers<2.0.0,>=1.0.0 in c:\\users\\sandeeprajkumar intu\\miniconda3\\envs\\testingp10\\lib\\site-packages (from spacy<3.8.0,>=3.7.2->en-core-web-lg==3.7.1) (1.0.5)\n",
      "Requirement already satisfied: murmurhash<1.1.0,>=0.28.0 in c:\\users\\sandeeprajkumar intu\\miniconda3\\envs\\testingp10\\lib\\site-packages (from spacy<3.8.0,>=3.7.2->en-core-web-lg==3.7.1) (1.0.10)\n",
      "Requirement already satisfied: cymem<2.1.0,>=2.0.2 in c:\\users\\sandeeprajkumar intu\\miniconda3\\envs\\testingp10\\lib\\site-packages (from spacy<3.8.0,>=3.7.2->en-core-web-lg==3.7.1) (2.0.8)\n",
      "Requirement already satisfied: preshed<3.1.0,>=3.0.2 in c:\\users\\sandeeprajkumar intu\\miniconda3\\envs\\testingp10\\lib\\site-packages (from spacy<3.8.0,>=3.7.2->en-core-web-lg==3.7.1) (3.0.9)\n",
      "Requirement already satisfied: thinc<8.3.0,>=8.2.2 in c:\\users\\sandeeprajkumar intu\\miniconda3\\envs\\testingp10\\lib\\site-packages (from spacy<3.8.0,>=3.7.2->en-core-web-lg==3.7.1) (8.2.5)\n",
      "Requirement already satisfied: wasabi<1.2.0,>=0.9.1 in c:\\users\\sandeeprajkumar intu\\miniconda3\\envs\\testingp10\\lib\\site-packages (from spacy<3.8.0,>=3.7.2->en-core-web-lg==3.7.1) (1.1.3)\n",
      "Requirement already satisfied: srsly<3.0.0,>=2.4.3 in c:\\users\\sandeeprajkumar intu\\miniconda3\\envs\\testingp10\\lib\\site-packages (from spacy<3.8.0,>=3.7.2->en-core-web-lg==3.7.1) (2.4.8)\n",
      "Requirement already satisfied: catalogue<2.1.0,>=2.0.6 in c:\\users\\sandeeprajkumar intu\\miniconda3\\envs\\testingp10\\lib\\site-packages (from spacy<3.8.0,>=3.7.2->en-core-web-lg==3.7.1) (2.0.10)\n",
      "Requirement already satisfied: weasel<0.5.0,>=0.1.0 in c:\\users\\sandeeprajkumar intu\\miniconda3\\envs\\testingp10\\lib\\site-packages (from spacy<3.8.0,>=3.7.2->en-core-web-lg==3.7.1) (0.4.1)\n",
      "Requirement already satisfied: typer<1.0.0,>=0.3.0 in c:\\users\\sandeeprajkumar intu\\miniconda3\\envs\\testingp10\\lib\\site-packages (from spacy<3.8.0,>=3.7.2->en-core-web-lg==3.7.1) (0.12.3)\n",
      "Requirement already satisfied: tqdm<5.0.0,>=4.38.0 in c:\\users\\sandeeprajkumar intu\\miniconda3\\envs\\testingp10\\lib\\site-packages (from spacy<3.8.0,>=3.7.2->en-core-web-lg==3.7.1) (4.66.4)\n",
      "Requirement already satisfied: requests<3.0.0,>=2.13.0 in c:\\users\\sandeeprajkumar intu\\miniconda3\\envs\\testingp10\\lib\\site-packages (from spacy<3.8.0,>=3.7.2->en-core-web-lg==3.7.1) (2.32.3)\n",
      "Requirement already satisfied: pydantic!=1.8,!=1.8.1,<3.0.0,>=1.7.4 in c:\\users\\sandeeprajkumar intu\\miniconda3\\envs\\testingp10\\lib\\site-packages (from spacy<3.8.0,>=3.7.2->en-core-web-lg==3.7.1) (2.7.3)\n",
      "Requirement already satisfied: jinja2 in c:\\users\\sandeeprajkumar intu\\miniconda3\\envs\\testingp10\\lib\\site-packages (from spacy<3.8.0,>=3.7.2->en-core-web-lg==3.7.1) (3.1.4)\n",
      "Requirement already satisfied: setuptools in c:\\users\\sandeeprajkumar intu\\miniconda3\\envs\\testingp10\\lib\\site-packages (from spacy<3.8.0,>=3.7.2->en-core-web-lg==3.7.1) (69.5.1)\n",
      "Requirement already satisfied: packaging>=20.0 in c:\\users\\sandeeprajkumar intu\\miniconda3\\envs\\testingp10\\lib\\site-packages (from spacy<3.8.0,>=3.7.2->en-core-web-lg==3.7.1) (23.2)\n",
      "Requirement already satisfied: langcodes<4.0.0,>=3.2.0 in c:\\users\\sandeeprajkumar intu\\miniconda3\\envs\\testingp10\\lib\\site-packages (from spacy<3.8.0,>=3.7.2->en-core-web-lg==3.7.1) (3.4.0)\n",
      "Requirement already satisfied: numpy>=1.19.0 in c:\\users\\sandeeprajkumar intu\\miniconda3\\envs\\testingp10\\lib\\site-packages (from spacy<3.8.0,>=3.7.2->en-core-web-lg==3.7.1) (1.26.4)\n",
      "Requirement already satisfied: language-data>=1.2 in c:\\users\\sandeeprajkumar intu\\miniconda3\\envs\\testingp10\\lib\\site-packages (from langcodes<4.0.0,>=3.2.0->spacy<3.8.0,>=3.7.2->en-core-web-lg==3.7.1) (1.2.0)\n",
      "Requirement already satisfied: annotated-types>=0.4.0 in c:\\users\\sandeeprajkumar intu\\miniconda3\\envs\\testingp10\\lib\\site-packages (from pydantic!=1.8,!=1.8.1,<3.0.0,>=1.7.4->spacy<3.8.0,>=3.7.2->en-core-web-lg==3.7.1) (0.7.0)\n",
      "Requirement already satisfied: pydantic-core==2.18.4 in c:\\users\\sandeeprajkumar intu\\miniconda3\\envs\\testingp10\\lib\\site-packages (from pydantic!=1.8,!=1.8.1,<3.0.0,>=1.7.4->spacy<3.8.0,>=3.7.2->en-core-web-lg==3.7.1) (2.18.4)\n",
      "Requirement already satisfied: typing-extensions>=4.6.1 in c:\\users\\sandeeprajkumar intu\\miniconda3\\envs\\testingp10\\lib\\site-packages (from pydantic!=1.8,!=1.8.1,<3.0.0,>=1.7.4->spacy<3.8.0,>=3.7.2->en-core-web-lg==3.7.1) (4.12.2)\n",
      "Requirement already satisfied: charset-normalizer<4,>=2 in c:\\users\\sandeeprajkumar intu\\miniconda3\\envs\\testingp10\\lib\\site-packages (from requests<3.0.0,>=2.13.0->spacy<3.8.0,>=3.7.2->en-core-web-lg==3.7.1) (3.3.2)\n",
      "Requirement already satisfied: idna<4,>=2.5 in c:\\users\\sandeeprajkumar intu\\miniconda3\\envs\\testingp10\\lib\\site-packages (from requests<3.0.0,>=2.13.0->spacy<3.8.0,>=3.7.2->en-core-web-lg==3.7.1) (3.7)\n",
      "Requirement already satisfied: urllib3<3,>=1.21.1 in c:\\users\\sandeeprajkumar intu\\miniconda3\\envs\\testingp10\\lib\\site-packages (from requests<3.0.0,>=2.13.0->spacy<3.8.0,>=3.7.2->en-core-web-lg==3.7.1) (2.2.1)\n",
      "Requirement already satisfied: certifi>=2017.4.17 in c:\\users\\sandeeprajkumar intu\\miniconda3\\envs\\testingp10\\lib\\site-packages (from requests<3.0.0,>=2.13.0->spacy<3.8.0,>=3.7.2->en-core-web-lg==3.7.1) (2024.6.2)\n",
      "Requirement already satisfied: blis<0.8.0,>=0.7.8 in c:\\users\\sandeeprajkumar intu\\miniconda3\\envs\\testingp10\\lib\\site-packages (from thinc<8.3.0,>=8.2.2->spacy<3.8.0,>=3.7.2->en-core-web-lg==3.7.1) (0.7.11)\n",
      "Requirement already satisfied: confection<1.0.0,>=0.0.1 in c:\\users\\sandeeprajkumar intu\\miniconda3\\envs\\testingp10\\lib\\site-packages (from thinc<8.3.0,>=8.2.2->spacy<3.8.0,>=3.7.2->en-core-web-lg==3.7.1) (0.1.5)\n",
      "Requirement already satisfied: colorama in c:\\users\\sandeeprajkumar intu\\miniconda3\\envs\\testingp10\\lib\\site-packages (from tqdm<5.0.0,>=4.38.0->spacy<3.8.0,>=3.7.2->en-core-web-lg==3.7.1) (0.4.6)\n",
      "Requirement already satisfied: click>=8.0.0 in c:\\users\\sandeeprajkumar intu\\miniconda3\\envs\\testingp10\\lib\\site-packages (from typer<1.0.0,>=0.3.0->spacy<3.8.0,>=3.7.2->en-core-web-lg==3.7.1) (8.1.7)\n",
      "Requirement already satisfied: shellingham>=1.3.0 in c:\\users\\sandeeprajkumar intu\\miniconda3\\envs\\testingp10\\lib\\site-packages (from typer<1.0.0,>=0.3.0->spacy<3.8.0,>=3.7.2->en-core-web-lg==3.7.1) (1.5.4)\n",
      "Requirement already satisfied: rich>=10.11.0 in c:\\users\\sandeeprajkumar intu\\miniconda3\\envs\\testingp10\\lib\\site-packages (from typer<1.0.0,>=0.3.0->spacy<3.8.0,>=3.7.2->en-core-web-lg==3.7.1) (13.7.1)\n",
      "Requirement already satisfied: cloudpathlib<1.0.0,>=0.7.0 in c:\\users\\sandeeprajkumar intu\\miniconda3\\envs\\testingp10\\lib\\site-packages (from weasel<0.5.0,>=0.1.0->spacy<3.8.0,>=3.7.2->en-core-web-lg==3.7.1) (0.18.1)\n",
      "Requirement already satisfied: smart-open<8.0.0,>=5.2.1 in c:\\users\\sandeeprajkumar intu\\miniconda3\\envs\\testingp10\\lib\\site-packages (from weasel<0.5.0,>=0.1.0->spacy<3.8.0,>=3.7.2->en-core-web-lg==3.7.1) (7.0.4)\n",
      "Requirement already satisfied: MarkupSafe>=2.0 in c:\\users\\sandeeprajkumar intu\\miniconda3\\envs\\testingp10\\lib\\site-packages (from jinja2->spacy<3.8.0,>=3.7.2->en-core-web-lg==3.7.1) (2.1.5)\n",
      "Requirement already satisfied: marisa-trie>=0.7.7 in c:\\users\\sandeeprajkumar intu\\miniconda3\\envs\\testingp10\\lib\\site-packages (from language-data>=1.2->langcodes<4.0.0,>=3.2.0->spacy<3.8.0,>=3.7.2->en-core-web-lg==3.7.1) (1.2.0)\n",
      "Requirement already satisfied: markdown-it-py>=2.2.0 in c:\\users\\sandeeprajkumar intu\\miniconda3\\envs\\testingp10\\lib\\site-packages (from rich>=10.11.0->typer<1.0.0,>=0.3.0->spacy<3.8.0,>=3.7.2->en-core-web-lg==3.7.1) (3.0.0)\n",
      "Requirement already satisfied: pygments<3.0.0,>=2.13.0 in c:\\users\\sandeeprajkumar intu\\miniconda3\\envs\\testingp10\\lib\\site-packages (from rich>=10.11.0->typer<1.0.0,>=0.3.0->spacy<3.8.0,>=3.7.2->en-core-web-lg==3.7.1) (2.18.0)\n",
      "Requirement already satisfied: wrapt in c:\\users\\sandeeprajkumar intu\\miniconda3\\envs\\testingp10\\lib\\site-packages (from smart-open<8.0.0,>=5.2.1->weasel<0.5.0,>=0.1.0->spacy<3.8.0,>=3.7.2->en-core-web-lg==3.7.1) (1.16.0)\n",
      "Requirement already satisfied: mdurl~=0.1 in c:\\users\\sandeeprajkumar intu\\miniconda3\\envs\\testingp10\\lib\\site-packages (from markdown-it-py>=2.2.0->rich>=10.11.0->typer<1.0.0,>=0.3.0->spacy<3.8.0,>=3.7.2->en-core-web-lg==3.7.1) (0.1.2)\n",
      "Installing collected packages: en-core-web-lg\n",
      "Successfully installed en-core-web-lg-3.7.1\n",
      "\u001b[38;5;2m✔ Download and installation successful\u001b[0m\n",
      "You can now load the package via spacy.load('en_core_web_lg')\n"
     ]
    }
   ],
   "source": [
    "! python -m spacy download en_core_web_lg"
   ]
  },
  {
   "cell_type": "code",
   "execution_count": 24,
   "metadata": {
    "id": "5-CdpAtmIbjQ"
   },
   "outputs": [],
   "source": [
    "import spacy\n",
    "nlp = spacy.load(\"en_core_web_lg\") # if this fails then run \"python -m spacy download en_core_web_lg\" to download that model\n",
    "\n",
    "def preprocess_and_vectorize(text):\n",
    "    # remove stop words and lemmatize the text\n",
    "    doc = nlp(text)\n",
    "    filtered_tokens = []\n",
    "    for token in doc:\n",
    "        if token.is_stop or token.is_punct:\n",
    "            continue\n",
    "        filtered_tokens.append(token.lemma_)\n",
    "        \n",
    "    return wv.get_mean_vector(filtered_tokens)"
   ]
  },
  {
   "cell_type": "code",
   "execution_count": 26,
   "metadata": {},
   "outputs": [
    {
     "data": {
      "text/plain": [
       "(300,)"
      ]
     },
     "execution_count": 26,
     "metadata": {},
     "output_type": "execute_result"
    }
   ],
   "source": [
    "v = preprocess_and_vectorize(\"Don't worry if you don't understand\")\n",
    "v.shape"
   ]
  },
  {
   "cell_type": "code",
   "execution_count": 27,
   "metadata": {
    "id": "iOke8KXkIbmE"
   },
   "outputs": [],
   "source": [
    "#this query takes few minutes, so go get some walk :)\n",
    "\n",
    "df['vector'] = df['Text'].apply(lambda text: preprocess_and_vectorize(text))"
   ]
  },
  {
   "cell_type": "code",
   "execution_count": 28,
   "metadata": {
    "colab": {
     "base_uri": "https://localhost:8080/",
     "height": 206
    },
    "id": "jI5EobDLQE_o",
    "outputId": "69737b13-3fe3-43f7-ca4e-eddbf50da1b6"
   },
   "outputs": [
    {
     "data": {
      "text/html": [
       "<div>\n",
       "<style scoped>\n",
       "    .dataframe tbody tr th:only-of-type {\n",
       "        vertical-align: middle;\n",
       "    }\n",
       "\n",
       "    .dataframe tbody tr th {\n",
       "        vertical-align: top;\n",
       "    }\n",
       "\n",
       "    .dataframe thead th {\n",
       "        text-align: right;\n",
       "    }\n",
       "</style>\n",
       "<table border=\"1\" class=\"dataframe\">\n",
       "  <thead>\n",
       "    <tr style=\"text-align: right;\">\n",
       "      <th></th>\n",
       "      <th>Text</th>\n",
       "      <th>label</th>\n",
       "      <th>label_num</th>\n",
       "      <th>vector</th>\n",
       "    </tr>\n",
       "  </thead>\n",
       "  <tbody>\n",
       "    <tr>\n",
       "      <th>0</th>\n",
       "      <td>Top Trump Surrogate BRUTALLY Stabs Him In The...</td>\n",
       "      <td>Fake</td>\n",
       "      <td>0</td>\n",
       "      <td>[0.008657642, 0.019024342, -0.011917442, 0.032...</td>\n",
       "    </tr>\n",
       "    <tr>\n",
       "      <th>1</th>\n",
       "      <td>U.S. conservative leader optimistic of common ...</td>\n",
       "      <td>Real</td>\n",
       "      <td>1</td>\n",
       "      <td>[0.010864096, 0.007960429, 0.0011915653, 0.014...</td>\n",
       "    </tr>\n",
       "    <tr>\n",
       "      <th>2</th>\n",
       "      <td>Trump proposes U.S. tax overhaul, stirs concer...</td>\n",
       "      <td>Real</td>\n",
       "      <td>1</td>\n",
       "      <td>[0.018134918, 0.0062743523, -0.005872244, 0.03...</td>\n",
       "    </tr>\n",
       "    <tr>\n",
       "      <th>3</th>\n",
       "      <td>Court Forces Ohio To Allow Millions Of Illega...</td>\n",
       "      <td>Fake</td>\n",
       "      <td>0</td>\n",
       "      <td>[0.01255197, 0.012613623, 5.9780963e-05, 0.021...</td>\n",
       "    </tr>\n",
       "    <tr>\n",
       "      <th>4</th>\n",
       "      <td>Democrats say Trump agrees to work on immigrat...</td>\n",
       "      <td>Real</td>\n",
       "      <td>1</td>\n",
       "      <td>[-0.0019059887, 0.011889367, 0.0035395357, 0.0...</td>\n",
       "    </tr>\n",
       "  </tbody>\n",
       "</table>\n",
       "</div>"
      ],
      "text/plain": [
       "                                                Text label  label_num  \\\n",
       "0   Top Trump Surrogate BRUTALLY Stabs Him In The...  Fake          0   \n",
       "1  U.S. conservative leader optimistic of common ...  Real          1   \n",
       "2  Trump proposes U.S. tax overhaul, stirs concer...  Real          1   \n",
       "3   Court Forces Ohio To Allow Millions Of Illega...  Fake          0   \n",
       "4  Democrats say Trump agrees to work on immigrat...  Real          1   \n",
       "\n",
       "                                              vector  \n",
       "0  [0.008657642, 0.019024342, -0.011917442, 0.032...  \n",
       "1  [0.010864096, 0.007960429, 0.0011915653, 0.014...  \n",
       "2  [0.018134918, 0.0062743523, -0.005872244, 0.03...  \n",
       "3  [0.01255197, 0.012613623, 5.9780963e-05, 0.021...  \n",
       "4  [-0.0019059887, 0.011889367, 0.0035395357, 0.0...  "
      ]
     },
     "execution_count": 28,
     "metadata": {},
     "output_type": "execute_result"
    }
   ],
   "source": [
    "df.head()"
   ]
  },
  {
   "cell_type": "markdown",
   "metadata": {
    "id": "j2XGariWM09j"
   },
   "source": [
    "**Train-Test splitting**"
   ]
  },
  {
   "cell_type": "code",
   "execution_count": 29,
   "metadata": {
    "id": "OJfmmbxBDYuO"
   },
   "outputs": [],
   "source": [
    "from sklearn.model_selection import train_test_split\n",
    "\n",
    "\n",
    "#Do the 'train-test' splitting with test size of 20% with random state of 2022 and stratify sampling too\n",
    "X_train, X_test, y_train, y_test = train_test_split(\n",
    "    df.vector.values, \n",
    "    df.label_num, \n",
    "    test_size=0.2, # 20% samples will go to test dataset\n",
    "    random_state=2022,\n",
    "    stratify=df.label_num\n",
    ")"
   ]
  },
  {
   "cell_type": "markdown",
   "metadata": {
    "id": "08-oivPtM8a5"
   },
   "source": [
    "**Reshaping the X_train and X_test so as to fit for models**"
   ]
  },
  {
   "cell_type": "code",
   "execution_count": 30,
   "metadata": {
    "colab": {
     "base_uri": "https://localhost:8080/"
    },
    "id": "DOOO4prQi7hg",
    "outputId": "ea31fc23-a63b-42ff-fef5-6e21c038b733"
   },
   "outputs": [
    {
     "name": "stdout",
     "output_type": "stream",
     "text": [
      "Shape of X_train before reshaping:  (7920,)\n",
      "Shape of X_test before reshaping:  (1980,)\n",
      "Shape of X_train after reshaping:  (7920, 300)\n",
      "Shape of X_test after reshaping:  (1980, 300)\n"
     ]
    }
   ],
   "source": [
    "print(\"Shape of X_train before reshaping: \", X_train.shape)\n",
    "print(\"Shape of X_test before reshaping: \", X_test.shape)\n",
    "\n",
    "\n",
    "X_train_2d = np.stack(X_train)\n",
    "X_test_2d =  np.stack(X_test)\n",
    "\n",
    "print(\"Shape of X_train after reshaping: \", X_train_2d.shape)\n",
    "print(\"Shape of X_test after reshaping: \", X_test_2d.shape)"
   ]
  },
  {
   "cell_type": "markdown",
   "metadata": {
    "id": "W5HmfA2gRyQY"
   },
   "source": [
    "**Train Machine Learning Model**\n",
    "\n",
    "I tried Random forest, decision tree, naive bayes etc classifiers as well but gradient boosting gave the best performance of all"
   ]
  },
  {
   "cell_type": "code",
   "execution_count": 31,
   "metadata": {
    "colab": {
     "base_uri": "https://localhost:8080/"
    },
    "id": "1Q8Sy2iENZr7",
    "outputId": "159d92d5-17bd-4c18-c797-ed049b6db0ef"
   },
   "outputs": [
    {
     "name": "stdout",
     "output_type": "stream",
     "text": [
      "              precision    recall  f1-score   support\n",
      "\n",
      "           0       0.99      0.97      0.98      1000\n",
      "           1       0.97      0.99      0.98       980\n",
      "\n",
      "    accuracy                           0.98      1980\n",
      "   macro avg       0.98      0.98      0.98      1980\n",
      "weighted avg       0.98      0.98      0.98      1980\n",
      "\n"
     ]
    }
   ],
   "source": [
    "from sklearn.ensemble import GradientBoostingClassifier\n",
    "from sklearn.metrics import classification_report\n",
    "\n",
    "#1. creating a GradientBoosting model object\n",
    "clf = GradientBoostingClassifier()\n",
    "\n",
    "#2. fit with all_train_embeddings and y_train\n",
    "clf.fit(X_train_2d, y_train)\n",
    "\n",
    "\n",
    "#3. get the predictions for all_test_embeddings and store it in y_pred\n",
    "y_pred = clf.predict(X_test_2d)\n",
    "\n",
    "\n",
    "#4. print the classfication report\n",
    "print(classification_report(y_test, y_pred))"
   ]
  },
  {
   "cell_type": "markdown",
   "metadata": {},
   "source": [
    "**Make some predictions**"
   ]
  },
  {
   "cell_type": "code",
   "execution_count": 32,
   "metadata": {},
   "outputs": [
    {
     "data": {
      "text/plain": [
       "array([1, 0, 0], dtype=int64)"
      ]
     },
     "execution_count": 32,
     "metadata": {},
     "output_type": "execute_result"
    }
   ],
   "source": [
    "test_news = [\n",
    "    \"Michigan governor denies misleading U.S. House on Flint water (Reuters) - Michigan Governor Rick Snyder denied Thursday that he had misled a U.S. House of Representatives committee last year over testimony on Flintâ€™s water crisis after lawmakers asked if his testimony had been contradicted by a witness in a court hearing. The House Oversight and Government Reform Committee wrote Snyder earlier Thursday asking him about published reports that one of his aides, Harvey Hollins, testified in a court hearing last week in Michigan that he had notified Snyder of an outbreak of Legionnairesâ€™ disease linked to the Flint water crisis in December 2015, rather than 2016 as Snyder had testified. â€œMy testimony was truthful and I stand by it,â€ Snyder told the committee in a letter, adding that his office has provided tens of thousands of pages of records to the committee and would continue to cooperate fully.  Last week, prosecutors in Michigan said Dr. Eden Wells, the stateâ€™s chief medical executive who already faced lesser charges, would become the sixth current or former official to face involuntary manslaughter charges in connection with the crisis. The charges stem from more than 80 cases of Legionnairesâ€™ disease and at least 12 deaths that were believed to be linked to the water in Flint after the city switched its source from Lake Huron to the Flint River in April 2014. Wells was among six current and former Michigan and Flint officials charged in June. The other five, including Michigan Health and Human Services Director Nick Lyon, were charged at the time with involuntary manslaughter\",\n",
    "    \" WATCH: Fox News Host Loses Her Sh*t, Says Investigating Russia For Hacking Our Election Is Unpatriotic This woman is insane.In an incredibly disrespectful rant against President Obama and anyone else who supports investigating Russian interference in our election, Fox News host Jeanine Pirro said that anybody who is against Donald Trump is anti-American. Look, it s time to take sides,  she began.\",\n",
    "    \" Sarah Palin Celebrates After White Man Who Pulled Gun On Black Protesters Goes Unpunished (VIDEO) Sarah Palin, one of the nigh-innumerable  deplorables  in Donald Trump s  basket,  almost outdid herself in terms of horribleness on Friday.\"\n",
    "]\n",
    "\n",
    "test_news_vectors = [preprocess_and_vectorize(n) for n in test_news]\n",
    "clf.predict(test_news_vectors)"
   ]
  },
  {
   "cell_type": "markdown",
   "metadata": {
    "id": "ppttUIGMNzk7"
   },
   "source": [
    "**Confusion Matrix for Best Model**"
   ]
  },
  {
   "cell_type": "code",
   "execution_count": 71,
   "metadata": {
    "colab": {
     "base_uri": "https://localhost:8080/",
     "height": 460
    },
    "id": "TfjngBUSBaYC",
    "outputId": "8aa7e3f1-0f37-47cb-bdd3-022fc5e10091"
   },
   "outputs": [
    {
     "data": {
      "text/plain": [
       "Text(69.0, 0.5, 'Truth')"
      ]
     },
     "execution_count": 71,
     "metadata": {},
     "output_type": "execute_result"
    },
    {
     "data": {
      "image/png": "[encoded data removed]",
      "text/plain": [
       "<Figure size 720x504 with 2 Axes>"
      ]
     },
     "metadata": {
      "needs_background": "light"
     },
     "output_type": "display_data"
    }
   ],
   "source": [
    "#finally print the confusion matrix for the best model (GradientBoostingClassifier)\n",
    "\n",
    "from sklearn.metrics import confusion_matrix\n",
    "cm = confusion_matrix(y_test, y_pred)\n",
    "cm\n",
    "\n",
    "\n",
    "from matplotlib import pyplot as plt\n",
    "import seaborn as sn\n",
    "plt.figure(figsize = (10,7))\n",
    "sn.heatmap(cm, annot=True, fmt='d')\n",
    "plt.xlabel('Prediction')\n",
    "plt.ylabel('Truth')"
   ]
  }
 ],
 "metadata": {
  "colab": {
   "collapsed_sections": [],
   "provenance": []
  },
  "kernelspec": {
   "display_name": "testingP10",
   "language": "python",
   "name": "python3"
  },
  "language_info": {
   "codemirror_mode": {
    "name": "ipython",
    "version": 3
   },
   "file_extension": ".py",
   "mimetype": "text/x-python",
   "name": "python",
   "nbconvert_exporter": "python",
   "pygments_lexer": "ipython3",
   "version": "3.10.14"
  }
 },
 "nbformat": 4,
 "nbformat_minor": 1
}
